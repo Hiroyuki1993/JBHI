{
 "cells": [
  {
   "cell_type": "code",
   "execution_count": 28,
   "metadata": {},
   "outputs": [],
   "source": [
    "import pandas as pd\n",
    "import re"
   ]
  },
  {
   "cell_type": "code",
   "execution_count": 2,
   "metadata": {},
   "outputs": [],
   "source": [
    "participants = pd.read_csv(\"./MDD_data/EMA_data_all participants.csv\")"
   ]
  },
  {
   "cell_type": "code",
   "execution_count": 3,
   "metadata": {},
   "outputs": [],
   "source": [
    "participants1 = participants[participants.ID == 1]"
   ]
  },
  {
   "cell_type": "code",
   "execution_count": 4,
   "metadata": {},
   "outputs": [
    {
     "data": {
      "text/html": [
       "<div>\n",
       "<style scoped>\n",
       "    .dataframe tbody tr th:only-of-type {\n",
       "        vertical-align: middle;\n",
       "    }\n",
       "\n",
       "    .dataframe tbody tr th {\n",
       "        vertical-align: top;\n",
       "    }\n",
       "\n",
       "    .dataframe thead th {\n",
       "        text-align: right;\n",
       "    }\n",
       "</style>\n",
       "<table border=\"1\" class=\"dataframe\">\n",
       "  <thead>\n",
       "    <tr style=\"text-align: right;\">\n",
       "      <th></th>\n",
       "      <th>ID</th>\n",
       "      <th>gender</th>\n",
       "      <th>age</th>\n",
       "      <th>time</th>\n",
       "      <th>schedule</th>\n",
       "      <th>day</th>\n",
       "      <th>hour</th>\n",
       "      <th>minute</th>\n",
       "      <th>ADL1</th>\n",
       "      <th>ADL2-1</th>\n",
       "      <th>...</th>\n",
       "      <th>forgetful</th>\n",
       "      <th>headache</th>\n",
       "      <th>sleepiness</th>\n",
       "      <th>total_anxiety</th>\n",
       "      <th>positive_mood</th>\n",
       "      <th>negative_mood</th>\n",
       "      <th>total_dep</th>\n",
       "      <th>sleep_quality</th>\n",
       "      <th>awakenings</th>\n",
       "      <th>sleep_duration</th>\n",
       "    </tr>\n",
       "  </thead>\n",
       "  <tbody>\n",
       "    <tr>\n",
       "      <th>0</th>\n",
       "      <td>1</td>\n",
       "      <td>1</td>\n",
       "      <td>34</td>\n",
       "      <td>2005/03/15 11:39</td>\n",
       "      <td>5</td>\n",
       "      <td>0</td>\n",
       "      <td>0</td>\n",
       "      <td>0</td>\n",
       "      <td>2.0</td>\n",
       "      <td>2</td>\n",
       "      <td>...</td>\n",
       "      <td>50.0</td>\n",
       "      <td>50.0</td>\n",
       "      <td>60.0</td>\n",
       "      <td>63.333333</td>\n",
       "      <td>36.666667</td>\n",
       "      <td>65.000000</td>\n",
       "      <td>64.166667</td>\n",
       "      <td>NaN</td>\n",
       "      <td>NaN</td>\n",
       "      <td>NaN</td>\n",
       "    </tr>\n",
       "    <tr>\n",
       "      <th>1</th>\n",
       "      <td>1</td>\n",
       "      <td>1</td>\n",
       "      <td>34</td>\n",
       "      <td>2005/03/15 12:00</td>\n",
       "      <td>5</td>\n",
       "      <td>0</td>\n",
       "      <td>0</td>\n",
       "      <td>21</td>\n",
       "      <td>2.0</td>\n",
       "      <td>3</td>\n",
       "      <td>...</td>\n",
       "      <td>50.0</td>\n",
       "      <td>0.0</td>\n",
       "      <td>20.0</td>\n",
       "      <td>35.000000</td>\n",
       "      <td>21.666667</td>\n",
       "      <td>60.000000</td>\n",
       "      <td>69.166667</td>\n",
       "      <td>NaN</td>\n",
       "      <td>NaN</td>\n",
       "      <td>NaN</td>\n",
       "    </tr>\n",
       "    <tr>\n",
       "      <th>2</th>\n",
       "      <td>1</td>\n",
       "      <td>1</td>\n",
       "      <td>34</td>\n",
       "      <td>2005/03/15 18:34</td>\n",
       "      <td>5</td>\n",
       "      <td>0</td>\n",
       "      <td>6</td>\n",
       "      <td>415</td>\n",
       "      <td>1.0</td>\n",
       "      <td>2</td>\n",
       "      <td>...</td>\n",
       "      <td>70.0</td>\n",
       "      <td>0.0</td>\n",
       "      <td>10.0</td>\n",
       "      <td>30.000000</td>\n",
       "      <td>50.000000</td>\n",
       "      <td>21.666667</td>\n",
       "      <td>35.833333</td>\n",
       "      <td>NaN</td>\n",
       "      <td>NaN</td>\n",
       "      <td>NaN</td>\n",
       "    </tr>\n",
       "    <tr>\n",
       "      <th>3</th>\n",
       "      <td>1</td>\n",
       "      <td>1</td>\n",
       "      <td>34</td>\n",
       "      <td>2005/03/16 2:00</td>\n",
       "      <td>1</td>\n",
       "      <td>1</td>\n",
       "      <td>14</td>\n",
       "      <td>861</td>\n",
       "      <td>NaN</td>\n",
       "      <td>NaN</td>\n",
       "      <td>...</td>\n",
       "      <td>30.0</td>\n",
       "      <td>0.0</td>\n",
       "      <td>30.0</td>\n",
       "      <td>18.333333</td>\n",
       "      <td>31.666667</td>\n",
       "      <td>21.666667</td>\n",
       "      <td>45.000000</td>\n",
       "      <td>NaN</td>\n",
       "      <td>NaN</td>\n",
       "      <td>NaN</td>\n",
       "    </tr>\n",
       "    <tr>\n",
       "      <th>4</th>\n",
       "      <td>1</td>\n",
       "      <td>1</td>\n",
       "      <td>34</td>\n",
       "      <td>2005/03/16 6:28</td>\n",
       "      <td>2</td>\n",
       "      <td>1</td>\n",
       "      <td>18</td>\n",
       "      <td>1129</td>\n",
       "      <td>NaN</td>\n",
       "      <td>NaN</td>\n",
       "      <td>...</td>\n",
       "      <td>50.0</td>\n",
       "      <td>0.0</td>\n",
       "      <td>30.0</td>\n",
       "      <td>6.666667</td>\n",
       "      <td>51.666667</td>\n",
       "      <td>5.000000</td>\n",
       "      <td>26.666667</td>\n",
       "      <td>85.0</td>\n",
       "      <td>2.0</td>\n",
       "      <td>2</td>\n",
       "    </tr>\n",
       "  </tbody>\n",
       "</table>\n",
       "<p>5 rows × 23 columns</p>\n",
       "</div>"
      ],
      "text/plain": [
       "   ID  gender  age              time  schedule  day  hour  minute  ADL1  \\\n",
       "0   1       1   34  2005/03/15 11:39         5    0     0       0   2.0   \n",
       "1   1       1   34  2005/03/15 12:00         5    0     0      21   2.0   \n",
       "2   1       1   34  2005/03/15 18:34         5    0     6     415   1.0   \n",
       "3   1       1   34   2005/03/16 2:00         1    1    14     861   NaN   \n",
       "4   1       1   34   2005/03/16 6:28         2    1    18    1129   NaN   \n",
       "\n",
       "  ADL2-1       ...       forgetful  headache  sleepiness  total_anxiety  \\\n",
       "0      2       ...            50.0      50.0        60.0      63.333333   \n",
       "1      3       ...            50.0       0.0        20.0      35.000000   \n",
       "2      2       ...            70.0       0.0        10.0      30.000000   \n",
       "3    NaN       ...            30.0       0.0        30.0      18.333333   \n",
       "4    NaN       ...            50.0       0.0        30.0       6.666667   \n",
       "\n",
       "   positive_mood  negative_mood  total_dep  sleep_quality  awakenings  \\\n",
       "0      36.666667      65.000000  64.166667            NaN         NaN   \n",
       "1      21.666667      60.000000  69.166667            NaN         NaN   \n",
       "2      50.000000      21.666667  35.833333            NaN         NaN   \n",
       "3      31.666667      21.666667  45.000000            NaN         NaN   \n",
       "4      51.666667       5.000000  26.666667           85.0         2.0   \n",
       "\n",
       "   sleep_duration  \n",
       "0             NaN  \n",
       "1             NaN  \n",
       "2             NaN  \n",
       "3             NaN  \n",
       "4               2  \n",
       "\n",
       "[5 rows x 23 columns]"
      ]
     },
     "execution_count": 4,
     "metadata": {},
     "output_type": "execute_result"
    }
   ],
   "source": [
    "participants1.head()"
   ]
  },
  {
   "cell_type": "code",
   "execution_count": 13,
   "metadata": {},
   "outputs": [],
   "source": [
    "activity = pd.read_csv(\"./MDD_data/Activity_Data/patient1/activity_3.csv\", header=None, names=[\"time\", \"zcr\"])"
   ]
  },
  {
   "cell_type": "code",
   "execution_count": 19,
   "metadata": {},
   "outputs": [],
   "source": [
    "activity['is_active'] = activity.zcr.apply(lambda x: 0 if x==0 else 1)"
   ]
  },
  {
   "cell_type": "code",
   "execution_count": 22,
   "metadata": {},
   "outputs": [],
   "source": [
    "seq = activity.is_active.astype(str).str.cat()"
   ]
  },
  {
   "cell_type": "code",
   "execution_count": 33,
   "metadata": {},
   "outputs": [
    {
     "data": {
      "text/plain": [
       "['00000', '000000', '000000', '0000000000']"
      ]
     },
     "execution_count": 33,
     "metadata": {},
     "output_type": "execute_result"
    }
   ],
   "source": [
    "re.findall('0{5,}', seq)"
   ]
  },
  {
   "cell_type": "code",
   "execution_count": 52,
   "metadata": {},
   "outputs": [],
   "source": [
    "matches = re.finditer('0{5,}', seq)"
   ]
  },
  {
   "cell_type": "code",
   "execution_count": 53,
   "metadata": {},
   "outputs": [
    {
     "name": "stdout",
     "output_type": "stream",
     "text": [
      "test\n",
      "test\n",
      "test\n",
      "test\n"
     ]
    }
   ],
   "source": [
    "for j, m in enumerate(matches):\n",
    "    print(\"test\")"
   ]
  },
  {
   "cell_type": "code",
   "execution_count": 54,
   "metadata": {},
   "outputs": [
    {
     "data": {
      "text/plain": [
       "3"
      ]
     },
     "execution_count": 54,
     "metadata": {},
     "output_type": "execute_result"
    }
   ],
   "source": [
    "j"
   ]
  },
  {
   "cell_type": "code",
   "execution_count": 41,
   "metadata": {},
   "outputs": [
    {
     "data": {
      "text/html": [
       "<div>\n",
       "<style scoped>\n",
       "    .dataframe tbody tr th:only-of-type {\n",
       "        vertical-align: middle;\n",
       "    }\n",
       "\n",
       "    .dataframe tbody tr th {\n",
       "        vertical-align: top;\n",
       "    }\n",
       "\n",
       "    .dataframe thead th {\n",
       "        text-align: right;\n",
       "    }\n",
       "</style>\n",
       "<table border=\"1\" class=\"dataframe\">\n",
       "  <thead>\n",
       "    <tr style=\"text-align: right;\">\n",
       "      <th></th>\n",
       "      <th>time</th>\n",
       "      <th>zcr</th>\n",
       "      <th>is_active</th>\n",
       "    </tr>\n",
       "  </thead>\n",
       "  <tbody>\n",
       "    <tr>\n",
       "      <th>88</th>\n",
       "      <td>2005-03-15 13:28:00</td>\n",
       "      <td>2</td>\n",
       "      <td>1</td>\n",
       "    </tr>\n",
       "    <tr>\n",
       "      <th>89</th>\n",
       "      <td>2005-03-15 13:29:00</td>\n",
       "      <td>0</td>\n",
       "      <td>0</td>\n",
       "    </tr>\n",
       "  </tbody>\n",
       "</table>\n",
       "</div>"
      ],
      "text/plain": [
       "                   time  zcr  is_active\n",
       "88  2005-03-15 13:28:00    2          1\n",
       "89  2005-03-15 13:29:00    0          0"
      ]
     },
     "execution_count": 41,
     "metadata": {},
     "output_type": "execute_result"
    }
   ],
   "source": [
    "activity[88:90]"
   ]
  },
  {
   "cell_type": "code",
   "execution_count": 49,
   "metadata": {},
   "outputs": [],
   "source": [
    "start = 0\n",
    "for i, match in enumerate(re.finditer('0{50,}', seq)):\n",
    "    end = match.start()\n",
    "    activity[start:end].to_csv(\"test{}.csv\".format(i))\n",
    "    start = match.end()\n",
    "activity[start:].to_csv(\"test{}.csv\".format(i+1))"
   ]
  },
  {
   "cell_type": "code",
   "execution_count": 24,
   "metadata": {},
   "outputs": [
    {
     "data": {
      "text/plain": [
       "266"
      ]
     },
     "execution_count": 24,
     "metadata": {},
     "output_type": "execute_result"
    }
   ],
   "source": [
    "seq.find('0000000000')"
   ]
  },
  {
   "cell_type": "code",
   "execution_count": 27,
   "metadata": {},
   "outputs": [
    {
     "data": {
      "text/plain": [
       "'1000000000011'"
      ]
     },
     "execution_count": 27,
     "metadata": {},
     "output_type": "execute_result"
    }
   ],
   "source": [
    "seq[265:278]"
   ]
  },
  {
   "cell_type": "code",
   "execution_count": null,
   "metadata": {},
   "outputs": [],
   "source": []
  },
  {
   "cell_type": "code",
   "execution_count": 25,
   "metadata": {},
   "outputs": [
    {
     "data": {
      "text/plain": [
       "Index(['ID', 'gender', 'age', 'time', 'schedule', 'day', 'hour', 'minute',\n",
       "       'ADL1', 'ADL2-1', 'ADL2-2', 'fatigue', 'unconcenration', 'forgetful',\n",
       "       'headache', 'sleepiness', 'total_anxiety', 'positive_mood',\n",
       "       'negative_mood', 'total_dep', 'sleep_quality', 'awakenings',\n",
       "       'sleep_duration'],\n",
       "      dtype='object')"
      ]
     },
     "execution_count": 25,
     "metadata": {},
     "output_type": "execute_result"
    }
   ],
   "source": [
    "participants1.columns"
   ]
  },
  {
   "cell_type": "code",
   "execution_count": 37,
   "metadata": {},
   "outputs": [],
   "source": [
    "start_time = participants1.shift().time"
   ]
  },
  {
   "cell_type": "code",
   "execution_count": 43,
   "metadata": {},
   "outputs": [
    {
     "name": "stderr",
     "output_type": "stream",
     "text": [
      "/home/hiroyuki/miniconda3/envs/jbhi/lib/python3.6/site-packages/ipykernel_launcher.py:1: SettingWithCopyWarning: \n",
      "A value is trying to be set on a copy of a slice from a DataFrame.\n",
      "Try using .loc[row_indexer,col_indexer] = value instead\n",
      "\n",
      "See the caveats in the documentation: http://pandas.pydata.org/pandas-docs/stable/indexing.html#indexing-view-versus-copy\n",
      "  \"\"\"Entry point for launching an IPython kernel.\n"
     ]
    }
   ],
   "source": [
    "participants1['start_time'] = pd.to_datetime(start_time)"
   ]
  },
  {
   "cell_type": "code",
   "execution_count": 45,
   "metadata": {},
   "outputs": [
    {
     "name": "stderr",
     "output_type": "stream",
     "text": [
      "/home/hiroyuki/miniconda3/envs/jbhi/lib/python3.6/site-packages/ipykernel_launcher.py:1: SettingWithCopyWarning: \n",
      "A value is trying to be set on a copy of a slice from a DataFrame.\n",
      "Try using .loc[row_indexer,col_indexer] = value instead\n",
      "\n",
      "See the caveats in the documentation: http://pandas.pydata.org/pandas-docs/stable/indexing.html#indexing-view-versus-copy\n",
      "  \"\"\"Entry point for launching an IPython kernel.\n"
     ]
    }
   ],
   "source": [
    "participants1['time'] = pd.to_datetime(participants1.time)"
   ]
  },
  {
   "cell_type": "code",
   "execution_count": 46,
   "metadata": {},
   "outputs": [
    {
     "data": {
      "text/html": [
       "<div>\n",
       "<style scoped>\n",
       "    .dataframe tbody tr th:only-of-type {\n",
       "        vertical-align: middle;\n",
       "    }\n",
       "\n",
       "    .dataframe tbody tr th {\n",
       "        vertical-align: top;\n",
       "    }\n",
       "\n",
       "    .dataframe thead th {\n",
       "        text-align: right;\n",
       "    }\n",
       "</style>\n",
       "<table border=\"1\" class=\"dataframe\">\n",
       "  <thead>\n",
       "    <tr style=\"text-align: right;\">\n",
       "      <th></th>\n",
       "      <th>start_time</th>\n",
       "      <th>time</th>\n",
       "    </tr>\n",
       "  </thead>\n",
       "  <tbody>\n",
       "    <tr>\n",
       "      <th>0</th>\n",
       "      <td>NaT</td>\n",
       "      <td>2005-03-15 11:39:00</td>\n",
       "    </tr>\n",
       "    <tr>\n",
       "      <th>1</th>\n",
       "      <td>2005-03-15 11:39:00</td>\n",
       "      <td>2005-03-15 12:00:00</td>\n",
       "    </tr>\n",
       "    <tr>\n",
       "      <th>2</th>\n",
       "      <td>2005-03-15 12:00:00</td>\n",
       "      <td>2005-03-15 18:34:00</td>\n",
       "    </tr>\n",
       "    <tr>\n",
       "      <th>3</th>\n",
       "      <td>2005-03-15 18:34:00</td>\n",
       "      <td>2005-03-16 02:00:00</td>\n",
       "    </tr>\n",
       "    <tr>\n",
       "      <th>4</th>\n",
       "      <td>2005-03-16 02:00:00</td>\n",
       "      <td>2005-03-16 06:28:00</td>\n",
       "    </tr>\n",
       "  </tbody>\n",
       "</table>\n",
       "</div>"
      ],
      "text/plain": [
       "           start_time                time\n",
       "0                 NaT 2005-03-15 11:39:00\n",
       "1 2005-03-15 11:39:00 2005-03-15 12:00:00\n",
       "2 2005-03-15 12:00:00 2005-03-15 18:34:00\n",
       "3 2005-03-15 18:34:00 2005-03-16 02:00:00\n",
       "4 2005-03-16 02:00:00 2005-03-16 06:28:00"
      ]
     },
     "execution_count": 46,
     "metadata": {},
     "output_type": "execute_result"
    }
   ],
   "source": [
    "participants1[['start_time', 'time']].head()"
   ]
  },
  {
   "cell_type": "code",
   "execution_count": 14,
   "metadata": {},
   "outputs": [],
   "source": [
    "activity_1 = pd.read_csv(\"./MDD_data/Activity_Data/1Aka_ActivityALL.csv\", index_col=0, parse_dates=True)"
   ]
  },
  {
   "cell_type": "code",
   "execution_count": 19,
   "metadata": {},
   "outputs": [
    {
     "data": {
      "text/plain": [
       "['./MDD_data/Activity_Data/1Aka_ActivityALL.csv']"
      ]
     },
     "execution_count": 19,
     "metadata": {},
     "output_type": "execute_result"
    }
   ],
   "source": [
    "import glob\n",
    "glob.glob(\"./MDD_data/Activity_Data/*.csv\")"
   ]
  },
  {
   "cell_type": "code",
   "execution_count": 96,
   "metadata": {},
   "outputs": [],
   "source": [
    "activity_1 = activity_1.sort_index()"
   ]
  },
  {
   "cell_type": "code",
   "execution_count": 17,
   "metadata": {},
   "outputs": [],
   "source": [
    "activity_1.index = pd.to_datetime(activity_1.time)"
   ]
  },
  {
   "cell_type": "code",
   "execution_count": 80,
   "metadata": {},
   "outputs": [
    {
     "data": {
      "text/html": [
       "<div>\n",
       "<style scoped>\n",
       "    .dataframe tbody tr th:only-of-type {\n",
       "        vertical-align: middle;\n",
       "    }\n",
       "\n",
       "    .dataframe tbody tr th {\n",
       "        vertical-align: top;\n",
       "    }\n",
       "\n",
       "    .dataframe thead th {\n",
       "        text-align: right;\n",
       "    }\n",
       "</style>\n",
       "<table border=\"1\" class=\"dataframe\">\n",
       "  <thead>\n",
       "    <tr style=\"text-align: right;\">\n",
       "      <th></th>\n",
       "      <th>time</th>\n",
       "      <th>ECOLOG_OFF</th>\n",
       "      <th>Activity</th>\n",
       "    </tr>\n",
       "    <tr>\n",
       "      <th>time</th>\n",
       "      <th></th>\n",
       "      <th></th>\n",
       "      <th></th>\n",
       "    </tr>\n",
       "  </thead>\n",
       "  <tbody>\n",
       "  </tbody>\n",
       "</table>\n",
       "</div>"
      ],
      "text/plain": [
       "Empty DataFrame\n",
       "Columns: [time, ECOLOG_OFF, Activity]\n",
       "Index: []"
      ]
     },
     "execution_count": 80,
     "metadata": {},
     "output_type": "execute_result"
    }
   ],
   "source": [
    "activity_1['2005-03-29 11:39:00':'2005-04-30 12:00:00']"
   ]
  },
  {
   "cell_type": "code",
   "execution_count": 83,
   "metadata": {},
   "outputs": [
    {
     "data": {
      "text/plain": [
       "pandas.core.series.Series"
      ]
     },
     "execution_count": 83,
     "metadata": {},
     "output_type": "execute_result"
    }
   ],
   "source": [
    "type(participants1.time)"
   ]
  },
  {
   "cell_type": "code",
   "execution_count": 110,
   "metadata": {},
   "outputs": [],
   "source": [
    "def extractActivities(row):\n",
    "    startTime = row.start_time\n",
    "    endTime = row.time\n",
    "    if pd.isnull(startTime):\n",
    "        activities = activity_1[:endTime].Activity\n",
    "    else:\n",
    "        activities = activity_1[startTime:endTime].Activity\n",
    "    return activities"
   ]
  },
  {
   "cell_type": "code",
   "execution_count": 111,
   "metadata": {},
   "outputs": [
    {
     "data": {
      "text/plain": [
       "time\n",
       "2005-03-15 12:00:00    133\n",
       "2005-03-15 12:01:00    164\n",
       "2005-03-15 12:02:00    128\n",
       "2005-03-15 12:03:00    170\n",
       "2005-03-15 12:04:00    225\n",
       "2005-03-15 12:05:00    227\n",
       "2005-03-15 12:06:00    239\n",
       "2005-03-15 12:07:00    217\n",
       "2005-03-15 12:08:00    149\n",
       "2005-03-15 12:09:00     70\n",
       "2005-03-15 12:10:00     51\n",
       "2005-03-15 12:11:00     41\n",
       "2005-03-15 12:12:00    102\n",
       "2005-03-15 12:13:00    135\n",
       "2005-03-15 12:14:00     72\n",
       "2005-03-15 12:15:00    139\n",
       "2005-03-15 12:16:00    100\n",
       "2005-03-15 12:17:00     45\n",
       "2005-03-15 12:18:00     62\n",
       "2005-03-15 12:19:00     62\n",
       "2005-03-15 12:20:00     64\n",
       "2005-03-15 12:21:00     28\n",
       "2005-03-15 12:22:00     37\n",
       "2005-03-15 12:23:00     91\n",
       "2005-03-15 12:24:00    174\n",
       "2005-03-15 12:25:00    197\n",
       "2005-03-15 12:26:00    200\n",
       "2005-03-15 12:27:00    184\n",
       "2005-03-15 12:28:00    309\n",
       "2005-03-15 12:29:00    315\n",
       "                      ... \n",
       "2005-03-15 18:05:00    236\n",
       "2005-03-15 18:06:00    178\n",
       "2005-03-15 18:07:00    289\n",
       "2005-03-15 18:08:00     63\n",
       "2005-03-15 18:09:00    514\n",
       "2005-03-15 18:10:00    579\n",
       "2005-03-15 18:11:00    645\n",
       "2005-03-15 18:12:00    555\n",
       "2005-03-15 18:13:00    573\n",
       "2005-03-15 18:14:00    372\n",
       "2005-03-15 18:15:00    657\n",
       "2005-03-15 18:16:00    462\n",
       "2005-03-15 18:17:00    511\n",
       "2005-03-15 18:18:00    126\n",
       "2005-03-15 18:19:00     42\n",
       "2005-03-15 18:20:00      7\n",
       "2005-03-15 18:21:00     22\n",
       "2005-03-15 18:22:00     25\n",
       "2005-03-15 18:23:00     14\n",
       "2005-03-15 18:24:00    138\n",
       "2005-03-15 18:25:00    180\n",
       "2005-03-15 18:26:00    162\n",
       "2005-03-15 18:27:00     61\n",
       "2005-03-15 18:28:00     57\n",
       "2005-03-15 18:29:00     94\n",
       "2005-03-15 18:30:00    184\n",
       "2005-03-15 18:31:00    198\n",
       "2005-03-15 18:32:00    189\n",
       "2005-03-15 18:33:00    171\n",
       "2005-03-15 18:34:00    165\n",
       "Name: Activity, Length: 395, dtype: int64"
      ]
     },
     "execution_count": 111,
     "metadata": {},
     "output_type": "execute_result"
    }
   ],
   "source": [
    "extractActivities(participants1.iloc[2])"
   ]
  },
  {
   "cell_type": "code",
   "execution_count": 90,
   "metadata": {},
   "outputs": [
    {
     "data": {
      "text/plain": [
       "[Timestamp('2005-04-05 18:14:00'), Timestamp('2005-04-06 06:53:00')]"
      ]
     },
     "execution_count": 90,
     "metadata": {},
     "output_type": "execute_result"
    }
   ],
   "source": [
    "[participants1.iloc[58].start_time, participants1.iloc[58].time]"
   ]
  },
  {
   "cell_type": "code",
   "execution_count": 99,
   "metadata": {},
   "outputs": [
    {
     "data": {
      "text/html": [
       "<div>\n",
       "<style scoped>\n",
       "    .dataframe tbody tr th:only-of-type {\n",
       "        vertical-align: middle;\n",
       "    }\n",
       "\n",
       "    .dataframe tbody tr th {\n",
       "        vertical-align: top;\n",
       "    }\n",
       "\n",
       "    .dataframe thead th {\n",
       "        text-align: right;\n",
       "    }\n",
       "</style>\n",
       "<table border=\"1\" class=\"dataframe\">\n",
       "  <thead>\n",
       "    <tr style=\"text-align: right;\">\n",
       "      <th></th>\n",
       "      <th>time</th>\n",
       "      <th>ECOLOG_OFF</th>\n",
       "      <th>Activity</th>\n",
       "    </tr>\n",
       "    <tr>\n",
       "      <th>time</th>\n",
       "      <th></th>\n",
       "      <th></th>\n",
       "      <th></th>\n",
       "    </tr>\n",
       "  </thead>\n",
       "  <tbody>\n",
       "  </tbody>\n",
       "</table>\n",
       "</div>"
      ],
      "text/plain": [
       "Empty DataFrame\n",
       "Columns: [time, ECOLOG_OFF, Activity]\n",
       "Index: []"
      ]
     },
     "execution_count": 99,
     "metadata": {},
     "output_type": "execute_result"
    }
   ],
   "source": [
    "activity_1[participants1.iloc[59].start_time:participants1.iloc[59].time]"
   ]
  },
  {
   "cell_type": "code",
   "execution_count": null,
   "metadata": {},
   "outputs": [],
   "source": []
  }
 ],
 "metadata": {
  "kernelspec": {
   "display_name": "Python 3",
   "language": "python",
   "name": "python3"
  },
  "language_info": {
   "codemirror_mode": {
    "name": "ipython",
    "version": 3
   },
   "file_extension": ".py",
   "mimetype": "text/x-python",
   "name": "python",
   "nbconvert_exporter": "python",
   "pygments_lexer": "ipython3",
   "version": "3.6.4"
  }
 },
 "nbformat": 4,
 "nbformat_minor": 2
}
